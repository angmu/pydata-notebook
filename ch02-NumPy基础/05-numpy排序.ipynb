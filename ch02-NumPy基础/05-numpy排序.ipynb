{
 "cells": [
  {
   "cell_type": "code",
   "execution_count": 1,
   "metadata": {},
   "outputs": [],
   "source": [
    "import numpy as np"
   ]
  },
  {
   "cell_type": "code",
   "execution_count": 2,
   "metadata": {},
   "outputs": [],
   "source": [
    "arr=np.random.randn(5,4)"
   ]
  },
  {
   "cell_type": "code",
   "execution_count": 3,
   "metadata": {},
   "outputs": [
    {
     "data": {
      "text/plain": [
       "array([[ 1.06897112, -0.49737321,  1.74947114, -1.11169784],\n",
       "       [ 1.43868989, -0.86355875,  0.10966278,  0.51976885],\n",
       "       [-0.79809601, -0.95083243,  1.39098932, -1.87783427],\n",
       "       [-0.121415  , -0.09633292,  1.54482819,  1.22293878],\n",
       "       [ 0.00867441, -0.10452143,  0.19763503, -0.72083555]])"
      ]
     },
     "execution_count": 3,
     "metadata": {},
     "output_type": "execute_result"
    }
   ],
   "source": [
    "arr"
   ]
  },
  {
   "cell_type": "code",
   "execution_count": 5,
   "metadata": {},
   "outputs": [
    {
     "data": {
      "text/plain": [
       "array([ 1.59682442, -2.51261874,  4.99258646, -1.96766003])"
      ]
     },
     "execution_count": 5,
     "metadata": {},
     "output_type": "execute_result"
    }
   ],
   "source": [
    "arr.sum(axis=0)"
   ]
  },
  {
   "cell_type": "code",
   "execution_count": 8,
   "metadata": {},
   "outputs": [
    {
     "data": {
      "text/plain": [
       "array([ 1.20937122,  1.20456277, -2.23577339,  2.55001905, -0.61904755])"
      ]
     },
     "execution_count": 8,
     "metadata": {},
     "output_type": "execute_result"
    }
   ],
   "source": [
    "arr.sum(axis=1)"
   ]
  },
  {
   "cell_type": "code",
   "execution_count": 9,
   "metadata": {},
   "outputs": [
    {
     "data": {
      "text/plain": [
       "array([[-1.11169784, -0.49737321,  1.06897112,  1.74947114],\n",
       "       [-0.86355875,  0.10966278,  0.51976885,  1.43868989],\n",
       "       [-1.87783427, -0.95083243, -0.79809601,  1.39098932],\n",
       "       [-0.121415  , -0.09633292,  1.22293878,  1.54482819],\n",
       "       [-0.72083555, -0.10452143,  0.00867441,  0.19763503]])"
      ]
     },
     "execution_count": 9,
     "metadata": {},
     "output_type": "execute_result"
    }
   ],
   "source": [
    "np.sort(arr)"
   ]
  },
  {
   "cell_type": "code",
   "execution_count": 10,
   "metadata": {},
   "outputs": [
    {
     "data": {
      "text/plain": [
       "array([[ 1.06897112, -0.49737321,  1.74947114, -1.11169784],\n",
       "       [ 1.43868989, -0.86355875,  0.10966278,  0.51976885],\n",
       "       [-0.79809601, -0.95083243,  1.39098932, -1.87783427],\n",
       "       [-0.121415  , -0.09633292,  1.54482819,  1.22293878],\n",
       "       [ 0.00867441, -0.10452143,  0.19763503, -0.72083555]])"
      ]
     },
     "execution_count": 10,
     "metadata": {},
     "output_type": "execute_result"
    }
   ],
   "source": [
    "arr"
   ]
  },
  {
   "cell_type": "code",
   "execution_count": 11,
   "metadata": {},
   "outputs": [],
   "source": [
    "arr.sort()"
   ]
  },
  {
   "cell_type": "code",
   "execution_count": 12,
   "metadata": {},
   "outputs": [
    {
     "data": {
      "text/plain": [
       "array([[-1.11169784, -0.49737321,  1.06897112,  1.74947114],\n",
       "       [-0.86355875,  0.10966278,  0.51976885,  1.43868989],\n",
       "       [-1.87783427, -0.95083243, -0.79809601,  1.39098932],\n",
       "       [-0.121415  , -0.09633292,  1.22293878,  1.54482819],\n",
       "       [-0.72083555, -0.10452143,  0.00867441,  0.19763503]])"
      ]
     },
     "execution_count": 12,
     "metadata": {},
     "output_type": "execute_result"
    }
   ],
   "source": [
    "arr"
   ]
  },
  {
   "cell_type": "code",
   "execution_count": 13,
   "metadata": {},
   "outputs": [],
   "source": [
    "arr.sort(0)"
   ]
  },
  {
   "cell_type": "code",
   "execution_count": 14,
   "metadata": {},
   "outputs": [
    {
     "data": {
      "text/plain": [
       "array([[-1.87783427, -0.95083243, -0.79809601,  0.19763503],\n",
       "       [-1.11169784, -0.49737321,  0.00867441,  1.39098932],\n",
       "       [-0.86355875, -0.10452143,  0.51976885,  1.43868989],\n",
       "       [-0.72083555, -0.09633292,  1.06897112,  1.54482819],\n",
       "       [-0.121415  ,  0.10966278,  1.22293878,  1.74947114]])"
      ]
     },
     "execution_count": 14,
     "metadata": {},
     "output_type": "execute_result"
    }
   ],
   "source": [
    "arr"
   ]
  },
  {
   "cell_type": "code",
   "execution_count": null,
   "metadata": {},
   "outputs": [],
   "source": []
  }
 ],
 "metadata": {
  "kernelspec": {
   "display_name": "Python 3",
   "language": "python",
   "name": "python3"
  },
  "language_info": {
   "codemirror_mode": {
    "name": "ipython",
    "version": 3
   },
   "file_extension": ".py",
   "mimetype": "text/x-python",
   "name": "python",
   "nbconvert_exporter": "python",
   "pygments_lexer": "ipython3",
   "version": "3.6.4rc1"
  }
 },
 "nbformat": 4,
 "nbformat_minor": 2
}
