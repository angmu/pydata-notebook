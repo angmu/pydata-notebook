{
 "cells": [
  {
   "cell_type": "markdown",
   "metadata": {},
   "source": [
    "# Python图形化工具生态系统"
   ]
  },
  {
   "cell_type": "markdown",
   "metadata": {},
   "source": [
    "用Python创建图形的方式非常多。除了开源库，还有商业库。  \n",
    "Matplotlib—是Python领域中使用最广泛的绘图工具。  \n",
    "虽然matplotlib可以为Web应用创建漂亮的图表，但这通常需要耗费大量的精力，因为它原本是为印刷而设计的。  \n",
    "Pandas中应用于数据分析的大部分绘图工具使得绘图变得更加简单。  \n",
    "还有很多绘图工具，以下列出几个。"
   ]
  },
  {
   "cell_type": "markdown",
   "metadata": {},
   "source": [
    "## Chaco"
   ]
  },
  {
   "cell_type": "markdown",
   "metadata": {},
   "source": [
    "既可以绘制静态图又可以生成交互式图形，它非常适合用复杂的图形化方法表达数据的内部关系。  \n",
    "跟Matplotlib相比，Chaco对交互的支持要好得多，而且渲染速度很快。  \n",
    "若要创建交互式的GUI应用程序，它的确是个不错的选择。"
   ]
  },
  {
   "cell_type": "markdown",
   "metadata": {},
   "source": [
    "## mayavi"
   ]
  },
  {
   "cell_type": "markdown",
   "metadata": {},
   "source": [
    "跟matplotlib一样，mayavi也能集成到IPython以实现交互式使用。  \n",
    "通过鼠标和键盘，图形可以被平移、旋转、缩放。"
   ]
  },
  {
   "cell_type": "markdown",
   "metadata": {},
   "source": [
    "## 其他库"
   ]
  },
  {
   "cell_type": "markdown",
   "metadata": {},
   "source": [
    "Python领域中还有很多其他的图形化库和应用程序：PyQwt、Veusz、gnuplotpy、biggles等。"
   ]
  }
 ],
 "metadata": {
  "kernelspec": {
   "display_name": "Python 3",
   "language": "python",
   "name": "python3"
  },
  "language_info": {
   "codemirror_mode": {
    "name": "ipython",
    "version": 3
   },
   "file_extension": ".py",
   "mimetype": "text/x-python",
   "name": "python",
   "nbconvert_exporter": "python",
   "pygments_lexer": "ipython3",
   "version": "3.6.2"
  }
 },
 "nbformat": 4,
 "nbformat_minor": 2
}
